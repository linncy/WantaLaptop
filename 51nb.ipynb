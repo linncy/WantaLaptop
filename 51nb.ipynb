{
 "cells": [
  {
   "cell_type": "code",
   "execution_count": 40,
   "metadata": {},
   "outputs": [],
   "source": [
    "#coding=utf-8\n",
    "import urllib3\n",
    "import re\n",
    "import threading\n",
    "import xml.etree.ElementTree as Etree"
   ]
  },
  {
   "cell_type": "code",
   "execution_count": 41,
   "metadata": {},
   "outputs": [],
   "source": [
    "def get_thread_num():\n",
    "    http = urllib3.PoolManager()\n",
    "    r = http.request('GET', 'https://forum.51nb.com/home.php?mod=space&uid=1894270')\n",
    "    newstr=str(r.data,encoding=\"gbk\")\n",
    "    newnum=int(newstr[newstr.index(\"主题数\")+4:newstr.index(\"主题数\")+5])\n",
    "    return newnum"
   ]
  },
  {
   "cell_type": "code",
   "execution_count": 42,
   "metadata": {},
   "outputs": [
    {
     "data": {
      "text/plain": [
       "3"
      ]
     },
     "execution_count": 42,
     "metadata": {},
     "output_type": "execute_result"
    }
   ],
   "source": [
    "get_thread_num()"
   ]
  },
  {
   "cell_type": "code",
   "execution_count": 43,
   "metadata": {},
   "outputs": [],
   "source": [
    "searchlist=['x220','X220','x210','X210','x20','X20']\n",
    "filterlist_PAGEID=['183513s7','1835115']"
   ]
  },
  {
   "cell_type": "code",
   "execution_count": 44,
   "metadata": {},
   "outputs": [],
   "source": [
    "def get_x220():\n",
    "    http = urllib3.PoolManager()\n",
    "    r = http.request('GET', 'https://forum.51nb.com/forum.php?mod=rss&fid=41&auth=2664AHvOS4nxk9C%2FKl5CZh67ZGqMWgM8saF8dZXzK74qjZBHRdB%2B%2FH7WrYAw%2FAX%2B')\n",
    "    xmlstr=str(r.data,encoding=\"gbk\")\n",
    "    data_tree = Etree.fromstring(xmlstr)\n",
    "    return data_tree"
   ]
  },
  {
   "cell_type": "code",
   "execution_count": 45,
   "metadata": {
    "scrolled": false
   },
   "outputs": [],
   "source": [
    "def search(element,searchlist,filterlist_PAGEID):\n",
    "    reslist=[]\n",
    "    for each in element:\n",
    "        print(each)\n",
    "        if(each.tag=='item'):\n",
    "            title=(each.find('title').text)\n",
    "            description=(each.find('description').text)\n",
    "            author=each.find('author').text\n",
    "            PAGEID=each.find('link').text[each.find('link').text.index('-')+1:each.find('link').text.index('-')+8]\n",
    "            print(title )\n",
    "            if(type(description!=str)):\n",
    "                description='none'\n",
    "            filter_flag=False\n",
    "            for i in range(len(filterlist_PAGEID)):\n",
    "                if(filterlist_PAGEID[i]==PAGEID):\n",
    "                    filter_flag=True\n",
    "                    break\n",
    "            if(filter_flag):\n",
    "                continue\\\n",
    "            search_flag=False\n",
    "            for i in range(len(searchlist)):\n",
    "                if(searchlist[i] in title or searchlist[i] in description):\n",
    "                    search_flag=True\n",
    "                    break\n",
    "            if(search_flag):\n",
    "                reslist.append(each.find('link').text)\n",
    "        return reslist"
   ]
  },
  {
   "cell_type": "code",
   "execution_count": 46,
   "metadata": {},
   "outputs": [
    {
     "name": "stdout",
     "output_type": "stream",
     "text": [
      "<Element 'title' at 0x7f0a59ba9f98>\n"
     ]
    }
   ],
   "source": [
    "element=get_x220().find('channel')\n",
    "reslist=search(element,searchlist,filterlist_PAGEID)"
   ]
  },
  {
   "cell_type": "code",
   "execution_count": 47,
   "metadata": {},
   "outputs": [
    {
     "data": {
      "text/plain": [
       "[]"
      ]
     },
     "execution_count": 47,
     "metadata": {},
     "output_type": "execute_result"
    }
   ],
   "source": [
    "reslist"
   ]
  },
  {
   "cell_type": "code",
   "execution_count": 48,
   "metadata": {},
   "outputs": [],
   "source": [
    "def check(element,searchlist,filterlist_PAGEID):\n",
    "    lists=[]\n",
    "    for item in element:\n",
    "        print(item)\n",
    "    return lists"
   ]
  },
  {
   "cell_type": "code",
   "execution_count": 49,
   "metadata": {},
   "outputs": [
    {
     "name": "stdout",
     "output_type": "stream",
     "text": [
      "<Element 'title' at 0x7f0a59ba9f98>\n",
      "<Element 'link' at 0x7f0a59ba9d18>\n",
      "<Element 'description' at 0x7f0a59baa728>\n",
      "<Element 'copyright' at 0x7f0a59baa598>\n",
      "<Element 'generator' at 0x7f0a59baa4a8>\n",
      "<Element 'lastBuildDate' at 0x7f0a59baa138>\n",
      "<Element 'ttl' at 0x7f0a59baa688>\n",
      "<Element 'image' at 0x7f0a59baa6d8>\n",
      "<Element 'item' at 0x7f0a59baa048>\n",
      "<Element 'item' at 0x7f0a59baaef8>\n",
      "<Element 'item' at 0x7f0a59bba408>\n",
      "<Element 'item' at 0x7f0a59b15d18>\n",
      "<Element 'item' at 0x7f0a59b304f8>\n",
      "<Element 'item' at 0x7f0a59b30408>\n",
      "<Element 'item' at 0x7f0a59b30a98>\n",
      "<Element 'item' at 0x7f0a59b30d18>\n",
      "<Element 'item' at 0x7f0a59b30f98>\n",
      "<Element 'item' at 0x7f0a59b372c8>\n",
      "<Element 'item' at 0x7f0a59b37598>\n",
      "<Element 'item' at 0x7f0a59b37818>\n",
      "<Element 'item' at 0x7f0a59b37ae8>\n",
      "<Element 'item' at 0x7f0a59b37d68>\n",
      "<Element 'item' at 0x7f0a59b39048>\n",
      "<Element 'item' at 0x7f0a59b392c8>\n",
      "<Element 'item' at 0x7f0a59b39548>\n",
      "<Element 'item' at 0x7f0a59b397c8>\n",
      "<Element 'item' at 0x7f0a59b39a48>\n",
      "<Element 'item' at 0x7f0a59b39cc8>\n"
     ]
    },
    {
     "data": {
      "text/plain": [
       "[]"
      ]
     },
     "execution_count": 49,
     "metadata": {},
     "output_type": "execute_result"
    }
   ],
   "source": [
    "check(element,searchlist,filterlist_PAGEID)"
   ]
  },
  {
   "cell_type": "code",
   "execution_count": null,
   "metadata": {},
   "outputs": [],
   "source": []
  }
 ],
 "metadata": {
  "kernelspec": {
   "display_name": "Python 3",
   "language": "python",
   "name": "python3"
  },
  "language_info": {
   "codemirror_mode": {
    "name": "ipython",
    "version": 3
   },
   "file_extension": ".py",
   "mimetype": "text/x-python",
   "name": "python",
   "nbconvert_exporter": "python",
   "pygments_lexer": "ipython3",
   "version": "3.5.2"
  }
 },
 "nbformat": 4,
 "nbformat_minor": 2
}
